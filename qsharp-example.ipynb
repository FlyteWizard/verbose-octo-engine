{
 "cells": [
  {
   "attachments": {},
   "cell_type": "markdown",
   "metadata": {},
   "source": [
    "# Jupyter Notebook with Q# Kernel\n",
    "\n",
    "An example of a Jupyter Notebook with a `Q#` kernel.\n",
    "\n",
    "## Setup\n",
    "\n",
    "1. Select the `Q#` kernel in the Jupyter Notebook menu `Kernel` $\\rightarrow$ `Jupyter Kernel` $\\rightarrow$ `Q#`."
   ]
  },
  {
   "attachments": {},
   "cell_type": "markdown",
   "metadata": {},
   "source": [
    "## Q# Example - Apply Hadamard Gates\n",
    "\n",
    "A Q# operation that applies a Hadamard gate to `n` qubits initialized at $|0\\rangle$, measured, and returned as an array of integers."
   ]
  },
  {
   "attachments": {},
   "cell_type": "markdown",
   "metadata": {},
   "source": [
    "### Create a Q# Operation\n",
    "\n",
    "Create a Q# operation called `ApplyHadamardGate`."
   ]
  },
  {
   "cell_type": "code",
   "execution_count": null,
   "metadata": {},
   "outputs": [],
   "source": [
    " operation ApplyHadamardGate() : Int [] {\n",
    "    let n = 3; // number of qubits\n",
    "    mutable result = [0, size=n]; // result of measurement\n",
    "    use q = Qubit[n]; // array of qubits\n",
    "\n",
    "    ResetAll(q); // reset all qubits\n",
    "\n",
    "    H(q[0]); // apply Hadamard gate to the first qubit\n",
    "    H(q[1]); // apply Hadamard gate to the second qubit\n",
    "    H(q[2]); // apply Hadamard gate to the third qubit\n",
    "\n",
    "    // measure all qubits\n",
    "    for i in 0..n-1 {\n",
    "        set result w/= i <- M(q[i]) == One ? 1 | 0;\n",
    "    }\n",
    "\n",
    "    ResetAll(q); // reset all qubits\n",
    "\n",
    "    return result;\n",
    "}"
   ]
  },
  {
   "attachments": {},
   "cell_type": "markdown",
   "metadata": {},
   "source": [
    "### Simulate the Q# Operation\n",
    "\n",
    "Simulate the Q# operation `ApplyHadamard` with `n = 3` qubits."
   ]
  },
  {
   "cell_type": "code",
   "execution_count": null,
   "metadata": {},
   "outputs": [],
   "source": [
    "%simulate ApplyHadamardGate"
   ]
  }
 ],
 "metadata": {
  "kernelspec": {
   "display_name": "Q#",
   "language": "qsharp",
   "name": "iqsharp"
  },
  "language_info": {
   "file_extension": ".qs",
   "mimetype": "text/x-qsharp",
   "name": "qsharp",
   "version": "0.27"
  },
  "orig_nbformat": 4
 },
 "nbformat": 4,
 "nbformat_minor": 2
}
