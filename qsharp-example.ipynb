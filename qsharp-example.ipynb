{
 "cells": [
  {
   "attachments": {},
   "cell_type": "markdown",
   "metadata": {},
   "source": [
    "# Jupyter Notebook with Q# Kernel\n",
    "\n",
    "An example of a Jupyter Notebook with a `Q#` Kernel.\n",
    "\n",
    "## Setup\n",
    "\n",
    "The following steps are required to setup the Jupyter Notebook with a `Q#` Kernel.\n",
    "\n",
    "1. Select the `Q#` kernel in the Jupyter Notebook menu `Kernel` $\\rightarrow$ `Jupyter Kernel` $\\rightarrow$ `Q#`.\n",
    "2. Run the Jupyter Notebook."
   ]
  },
  {
   "attachments": {},
   "cell_type": "markdown",
   "metadata": {},
   "source": [
    "## Q# Example - Apply Hadamard Gates and Simulate Measurement\n",
    "\n",
    "A Q# operation that applies a Hadamard gate to `n` qubits initialized at $|0\\rangle$, measured, and returned as an array of integers."
   ]
  },
  {
   "attachments": {},
   "cell_type": "markdown",
   "metadata": {},
   "source": [
    "### Create a Q# Operation\n",
    "\n",
    "Create a Q# operation called `ApplyHadamardGate`. Setup the number of qubits `n` and the array of integers `result` to store the measurement results. Apply a Hadamard gate to each qubit and measure the qubits. Return the measurement results."
   ]
  },
  {
   "cell_type": "code",
   "execution_count": 1,
   "metadata": {},
   "outputs": [
    {
     "data": {
      "application/x-qsharp-data": "[\"ApplyHadamardGate\"]",
      "text/html": [
       "<ul><li>ApplyHadamardGate</li></ul>"
      ],
      "text/plain": [
       "ApplyHadamardGate"
      ]
     },
     "execution_count": 1,
     "metadata": {
      "application/x-qsharp-data": {},
      "text/html": {},
      "text/plain": {}
     },
     "output_type": "execute_result"
    }
   ],
   "source": [
    " operation ApplyHadamardGate() : Int [] {\n",
    "    let n = 3; // number of qubits\n",
    "    mutable result = [0, size=n]; // result of measurement\n",
    "    use q = Qubit[n]; // array of qubits\n",
    "\n",
    "    ResetAll(q); // reset all qubits\n",
    "\n",
    "    H(q[0]); // apply Hadamard gate to the first qubit\n",
    "    H(q[1]); // apply Hadamard gate to the second qubit\n",
    "    H(q[2]); // apply Hadamard gate to the third qubit\n",
    "\n",
    "    // measure all qubits\n",
    "    for i in 0..n-1 {\n",
    "        set result w/= i <- M(q[i]) == One ? 1 | 0;\n",
    "    }\n",
    "\n",
    "    ResetAll(q); // reset all qubits\n",
    "\n",
    "    return result;\n",
    "}"
   ]
  },
  {
   "attachments": {},
   "cell_type": "markdown",
   "metadata": {},
   "source": [
    "### Simulate the Q# Operation\n",
    "\n",
    "Simulate the Q# operation `ApplyHadamard` with `n = 3` qubits."
   ]
  },
  {
   "cell_type": "code",
   "execution_count": 2,
   "metadata": {},
   "outputs": [
    {
     "data": {
      "application/x-qsharp-data": "[0,0,1]",
      "text/html": [
       "<ul><li>0</li><li>0</li><li>1</li></ul>"
      ],
      "text/plain": [
       "0, 0, 1"
      ]
     },
     "execution_count": 2,
     "metadata": {
      "application/x-qsharp-data": {},
      "text/html": {},
      "text/plain": {}
     },
     "output_type": "execute_result"
    }
   ],
   "source": [
    "%simulate ApplyHadamardGate"
   ]
  },
  {
   "attachments": {},
   "cell_type": "markdown",
   "metadata": {},
   "source": [
    "## Resources\n",
    "\n",
    "- [Q# and the Quantum Development Kit](https://azure.microsoft.com/en-us/resources/development-kit/quantum-computing/#overview)\n",
    "- [Q# Language](https://github.com/microsoft/qsharp-language)"
   ]
  }
 ],
 "metadata": {
  "kernelspec": {
   "display_name": "Q#",
   "language": "qsharp",
   "name": "iqsharp"
  },
  "language_info": {
   "file_extension": ".qs",
   "mimetype": "text/x-qsharp",
   "name": "qsharp",
   "version": "0.27"
  },
  "orig_nbformat": 4
 },
 "nbformat": 4,
 "nbformat_minor": 2
}
